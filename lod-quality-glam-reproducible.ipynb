{
 "cells": [
  {
   "cell_type": "markdown",
   "id": "4d561e1c-b3f5-49fc-a79a-4432d4702c06",
   "metadata": {},
   "source": [
    "### Import python packages"
   ]
  },
  {
   "cell_type": "code",
   "execution_count": 2,
   "id": "4105b59a-8d7a-4907-9986-5606ac1c58bc",
   "metadata": {},
   "outputs": [],
   "source": [
    "from ipywidgets import interact, interactive, fixed, interact_manual, AppLayout, Button, HBox, Layout, VBox, HTML\n",
    "from IPython.display import display\n",
    "import ipywidgets as widgets\n",
    "from dataset import Dataset\n",
    "import IPython\n",
    "import ipyspin"
   ]
  },
  {
   "cell_type": "markdown",
   "id": "d32fa734-58ab-4625-9c17-9679781a13d5",
   "metadata": {},
   "source": [
    "### Define the spin for long tasks"
   ]
  },
  {
   "cell_type": "code",
   "execution_count": 4,
   "id": "b106b089-7741-44c4-8b31-cfd686b237b3",
   "metadata": {},
   "outputs": [
    {
     "data": {
      "application/vnd.jupyter.widget-view+json": {
       "model_id": "eeff09c0999c4ee793f74c2a88ea3d2f",
       "version_major": 2,
       "version_minor": 0
      },
      "text/plain": [
       "Spinner(class_name='spinner', layout=Layout(height='40px', width='40px'), length=60.0, radius=8.0, width=8.0)"
      ]
     },
     "execution_count": 4,
     "metadata": {},
     "output_type": "execute_result"
    }
   ],
   "source": [
    "s = ipyspin.Spinner()\n",
    "\n",
    "s.layout.height = '40px'\n",
    "s.layout.width = '40px'\n",
    "\n",
    "s.lines = 13  # The number of lines to draw\n",
    "s.length = 60  # The length of each line\n",
    "s.width = 8  # The line thickness\n",
    "s.radius = 8  # The radius of the inner circle\n",
    "s.scale = 1  # Scales overall size of the spinner\n",
    "s.corners = 1  # Corner roundness (0..1)\n",
    "s.speed = 1  # Rounds per second\n",
    "s.rotate = 0  # The rotation offset\n",
    "s.animation = 'spinner-line-fade-quick'  # The CSS animation name for the lines\n",
    "s.direction = 1  # 1: clockwise, -1: counterclockwise\n",
    "s.color = '#000000'  # CSS color or array of colors\n",
    "s.fade_color = 'transparent'  # CSS color or array of colors\n",
    "s.top = '50%'  # Top position relative to parent\n",
    "s.left = '50%'  # Left position relative to parent\n",
    "s.shadow = '0 0 1px transparent'  # Box-shadow for the lines\n",
    "s.z_index = 2000000000  # The z-index (defaults to 2e9)\n",
    "s.class_name = 'spinner'  # The CSS class to assign to the spinner\n",
    "s.position = 'absolute'  # Element positioning\n",
    "\n",
    "s.stop()  # Removes the UI elements from the DOM and stops the animation\n",
    "\n",
    "s.spin()  # Stopped spinners may be reused by calling spin() again\n",
    "\n",
    "s  # Displays the spinner"
   ]
  },
  {
   "cell_type": "markdown",
   "id": "59e9cb62-17ba-467b-b78d-8b024354b9ee",
   "metadata": {},
   "source": [
    "### Create select for the SPARQL endpoint"
   ]
  },
  {
   "cell_type": "code",
   "execution_count": 30,
   "id": "8092481a-9e95-4dda-b152-313419c17d4f",
   "metadata": {},
   "outputs": [],
   "source": [
    "#file = \"data/zeri-data-quality.ttl\"\n",
    "#file = \"data/bnf-data-quality.ttl\"\n",
    "file = \"data/bne-data-quality.ttl\"\n",
    "dataset = Dataset(file)"
   ]
  },
  {
   "cell_type": "code",
   "execution_count": 32,
   "id": "82d38839-4333-4988-be83-14b3e96c3a0d",
   "metadata": {},
   "outputs": [],
   "source": [
    "sparqlWidget = widgets.Text(\n",
    "    value=dataset.getEndpoint(),\n",
    "    placeholder='SPARQL endpoint',\n",
    "    description='URL:',\n",
    "    disabled=False,\n",
    "    layout = widgets.Layout(width='350px')\n",
    ")"
   ]
  },
  {
   "cell_type": "markdown",
   "id": "42a5d044-c139-4061-b7c3-a444fbe044ad",
   "metadata": {},
   "source": [
    "### Retrieve the metrics"
   ]
  },
  {
   "cell_type": "code",
   "execution_count": 35,
   "id": "a10d61e3-3e81-43f7-b7fb-24d5c40274c8",
   "metadata": {},
   "outputs": [],
   "source": [
    "def setCriterion(criterion):\n",
    "    out = widgets.Output()\n",
    "    display(out)\n",
    "    \n",
    "    with out:\n",
    "        display(s)\n",
    "        try:\n",
    "            result = dataset.runCriterion(criterion)\n",
    "            for d in result:\n",
    "                assessmentItems = []\n",
    "    \n",
    "                if criterion == \"Syntactic validity\":\n",
    "                    assessmentItems.append(widgets.HTML(\n",
    "                        value='Please, assess the URIs provided in the section Raw Result and using the <a style=\"color:blue;\" href=\"https://www.w3.org/RDF/Validator/\">W3C RDF Validator service</a>',\n",
    "                        placeholder='Note',\n",
    "                        description='Note'\n",
    "                    ))\n",
    "            \n",
    "                assessmentItems.append(widgets.HTML(\n",
    "                    value=d[\"label\"],\n",
    "                    placeholder='Label',\n",
    "                    description='Label'\n",
    "                ))\n",
    "                assessmentItems.append(widgets.HTML(\n",
    "                    value=d[\"sparqlResult\"],\n",
    "                    placeholder='Result',\n",
    "                    description='Result'\n",
    "                ))\n",
    "                assessmentItems.append(widgets.HTML(\n",
    "                    value=d[\"time\"],\n",
    "                    placeholder='Seconds',\n",
    "                    description='Seconds'\n",
    "                ))\n",
    "                \n",
    "                assessmentLayout = VBox()\n",
    "                assessmentLayout.children = assessmentItems\n",
    "        \n",
    "                children = []\n",
    "                children.append(assessmentLayout)\n",
    "                children.append(widgets.Textarea(\n",
    "                               value=d[\"query\"],\n",
    "                               placeholder='Query',\n",
    "                               description='Query:',\n",
    "                               layout=widgets.Layout(width='50%'),\n",
    "                               disabled=False))\n",
    "                    \n",
    "                children.append(widgets.Textarea(\n",
    "                               value=d[\"sparqlResultRaw\"],\n",
    "                               placeholder='Result',\n",
    "                               description='Result:',\n",
    "                               layout=widgets.Layout(width='90%'),\n",
    "                               disabled=False))\n",
    "                \n",
    "                accordion = widgets.Accordion(children)\n",
    "                accordion.set_title(0, 'Assessment')\n",
    "                accordion.set_title(1, 'SPARQL')\n",
    "                accordion.set_title(2, 'Raw result')\n",
    "                \n",
    "                out.clear_output()\n",
    "                display(accordion)\n",
    "        except Exception as e:\n",
    "            # time out exception\n",
    "            out.clear_output()\n",
    "            print(e)\n",
    "            #display(e)\n",
    "\n",
    "criteriaWidget = widgets.interactive(setCriterion, criterion=dataset.getCriteria())"
   ]
  },
  {
   "cell_type": "markdown",
   "id": "5e6fee08-a392-4ccb-a766-14b549c0a30f",
   "metadata": {},
   "source": [
    "### Create visual interface"
   ]
  },
  {
   "cell_type": "code",
   "execution_count": 38,
   "id": "49ef0913-a432-427a-832f-8035092808bd",
   "metadata": {
    "scrolled": true
   },
   "outputs": [
    {
     "data": {
      "application/vnd.jupyter.widget-view+json": {
       "model_id": "48487f10246945e591e99774caf32a1e",
       "version_major": 2,
       "version_minor": 0
      },
      "text/plain": [
       "Tab(children=(Text(value='https://datos.bne.es/sparql', description='URL:', layout=Layout(width='350px'), plac…"
      ]
     },
     "execution_count": 38,
     "metadata": {},
     "output_type": "execute_result"
    }
   ],
   "source": [
    "children = []\n",
    "titles = []\n",
    "tab = widgets.Tab()\n",
    "children.insert(0,sparqlWidget)\n",
    "children.insert(1,criteriaWidget)\n",
    "tab.children = children\n",
    "\n",
    "titles.insert(0, 'SPARQL endpoint')\n",
    "titles.insert(1, 'Data quality criteria')\n",
    "tab.titles = titles\n",
    "\n",
    "tab"
   ]
  },
  {
   "cell_type": "code",
   "execution_count": null,
   "id": "60fd0da8-7b10-447c-a577-20d9431b0815",
   "metadata": {},
   "outputs": [],
   "source": []
  },
  {
   "cell_type": "code",
   "execution_count": null,
   "id": "f5448271-fb7d-4e03-b960-9a30d46450d2",
   "metadata": {},
   "outputs": [],
   "source": []
  }
 ],
 "metadata": {
  "kernelspec": {
   "display_name": "Python 3",
   "language": "python",
   "name": "python3"
  },
  "language_info": {
   "codemirror_mode": {
    "name": "ipython",
    "version": 3
   },
   "file_extension": ".py",
   "mimetype": "text/x-python",
   "name": "python",
   "nbconvert_exporter": "python",
   "pygments_lexer": "ipython3",
   "version": "3.9.18"
  }
 },
 "nbformat": 4,
 "nbformat_minor": 5
}
