{
 "cells": [
  {
   "cell_type": "markdown",
   "id": "4d561e1c-b3f5-49fc-a79a-4432d4702c06",
   "metadata": {},
   "source": [
    "### Import python packages"
   ]
  },
  {
   "cell_type": "code",
   "execution_count": 1,
   "id": "4105b59a-8d7a-4907-9986-5606ac1c58bc",
   "metadata": {},
   "outputs": [],
   "source": [
    "from ipywidgets import interact, interactive, fixed, interact_manual, AppLayout, Button, HBox, Layout, VBox, HTML\n",
    "from IPython.display import display\n",
    "import ipywidgets as widgets\n",
    "from dataset import Dataset\n",
    "import IPython\n",
    "import ipyspin"
   ]
  },
  {
   "cell_type": "markdown",
   "id": "d32fa734-58ab-4625-9c17-9679781a13d5",
   "metadata": {},
   "source": [
    "### Define the spin for long tasks"
   ]
  },
  {
   "cell_type": "code",
   "execution_count": 4,
   "id": "b106b089-7741-44c4-8b31-cfd686b237b3",
   "metadata": {},
   "outputs": [
    {
     "data": {
      "application/vnd.jupyter.widget-view+json": {
       "model_id": "44546797d18c4e86920616f8f35b6311",
       "version_major": 2,
       "version_minor": 0
      },
      "text/plain": [
       "Spinner(class_name='spinner', layout=Layout(height='40px', width='40px'), length=60.0, radius=8.0, width=8.0)"
      ]
     },
     "execution_count": 4,
     "metadata": {},
     "output_type": "execute_result"
    }
   ],
   "source": [
    "s = ipyspin.Spinner()\n",
    "\n",
    "s.layout.height = '40px'\n",
    "s.layout.width = '40px'\n",
    "\n",
    "s.lines = 13  # The number of lines to draw\n",
    "s.length = 60  # The length of each line\n",
    "s.width = 8  # The line thickness\n",
    "s.radius = 8  # The radius of the inner circle\n",
    "s.scale = 1  # Scales overall size of the spinner\n",
    "s.corners = 1  # Corner roundness (0..1)\n",
    "s.speed = 1  # Rounds per second\n",
    "s.rotate = 0  # The rotation offset\n",
    "s.animation = 'spinner-line-fade-quick'  # The CSS animation name for the lines\n",
    "s.direction = 1  # 1: clockwise, -1: counterclockwise\n",
    "s.color = '#000000'  # CSS color or array of colors\n",
    "s.fade_color = 'transparent'  # CSS color or array of colors\n",
    "s.top = '50%'  # Top position relative to parent\n",
    "s.left = '50%'  # Left position relative to parent\n",
    "s.shadow = '0 0 1px transparent'  # Box-shadow for the lines\n",
    "s.z_index = 2000000000  # The z-index (defaults to 2e9)\n",
    "s.class_name = 'spinner'  # The CSS class to assign to the spinner\n",
    "s.position = 'absolute'  # Element positioning\n",
    "\n",
    "s.stop()  # Removes the UI elements from the DOM and stops the animation\n",
    "\n",
    "s.spin()  # Stopped spinners may be reused by calling spin() again\n",
    "\n",
    "s  # Displays the spinner"
   ]
  },
  {
   "cell_type": "markdown",
   "id": "59e9cb62-17ba-467b-b78d-8b024354b9ee",
   "metadata": {},
   "source": [
    "### Select the dataset\n",
    "\n",
    "Please, see the files included in the folder data. Each of them corresponds to a dataset, including the data criteria and the results of the assessment. Please, remove the # character of the dataset that you want to use."
   ]
  },
  {
   "cell_type": "code",
   "execution_count": 20,
   "id": "8092481a-9e95-4dda-b152-313419c17d4f",
   "metadata": {},
   "outputs": [],
   "source": [
    "#file = \"data/zeri-data-quality.ttl\"\n",
    "file = \"data/bnf-data-quality.ttl\"\n",
    "#file = \"data/bne-data-quality.ttl\"\n",
    "#file = \"data/ldfi-data-quality.ttl\"\n",
    "dataset = Dataset(file)"
   ]
  },
  {
   "cell_type": "code",
   "execution_count": 22,
   "id": "82d38839-4333-4988-be83-14b3e96c3a0d",
   "metadata": {},
   "outputs": [],
   "source": [
    "sparqlWidget = widgets.Text(\n",
    "    value=dataset.getEndpoint(),\n",
    "    placeholder='SPARQL endpoint',\n",
    "    description='SPARQL:',\n",
    "    disabled=False,\n",
    "    layout = widgets.Layout(width='350px')\n",
    ")\n",
    "\n",
    "titleWidget = widgets.Text(\n",
    "    value=dataset.getEndpoint(),\n",
    "    placeholder='Title',\n",
    "    description='Title:',\n",
    "    disabled=False,\n",
    "    layout = widgets.Layout(width='350px')\n",
    ")\n",
    "\n",
    "descriptionWidget = widgets.Text(\n",
    "    value=dataset.getDescription(),\n",
    "    placeholder='Description',\n",
    "    description='Description:',\n",
    "    disabled=False,\n",
    "    layout = widgets.Layout(width='350px')\n",
    ")\n",
    "\n",
    "introductionLayout = VBox()\n",
    "introductionItems = []\n",
    "introductionItems.append(sparqlWidget)\n",
    "introductionItems.append(titleWidget)\n",
    "introductionItems.append(descriptionWidget)\n",
    "introductionLayout.children = introductionItems"
   ]
  },
  {
   "cell_type": "markdown",
   "id": "42a5d044-c139-4061-b7c3-a444fbe044ad",
   "metadata": {},
   "source": [
    "### Let's retrieve the metrics"
   ]
  },
  {
   "cell_type": "code",
   "execution_count": 25,
   "id": "a10d61e3-3e81-43f7-b7fb-24d5c40274c8",
   "metadata": {},
   "outputs": [],
   "source": [
    "def setCriterion(criterion):\n",
    "    out = widgets.Output()\n",
    "    display(out)\n",
    "    \n",
    "    with out:\n",
    "        display(s)\n",
    "        try:\n",
    "            result = dataset.runCriterion(criterion)\n",
    "            for d in result:\n",
    "                assessmentItems = []\n",
    "    \n",
    "                if criterion == \"Syntactic validity\":\n",
    "                    assessmentItems.append(widgets.HTML(\n",
    "                        value='Please, assess the URIs provided in the section Raw Result and using the \\\n",
    "                        <a style=\"color:blue;\" href=\"https://www.w3.org/RDF/Validator/\">W3C RDF Validator service</a>',\n",
    "                        placeholder='Note',\n",
    "                        description='Note'\n",
    "                    ))\n",
    "            \n",
    "                assessmentItems.append(widgets.HTML(\n",
    "                    value=d[\"label\"],\n",
    "                    placeholder='Label',\n",
    "                    description='Label'\n",
    "                ))\n",
    "                assessmentItems.append(widgets.HTML(\n",
    "                    value=d[\"sparqlResult\"],\n",
    "                    placeholder='Result',\n",
    "                    description='Result'\n",
    "                ))\n",
    "                assessmentItems.append(widgets.HTML(\n",
    "                    value=d[\"time\"],\n",
    "                    placeholder='Seconds',\n",
    "                    description='Seconds'\n",
    "                ))\n",
    "                \n",
    "                assessmentLayout = VBox()\n",
    "                assessmentLayout.children = assessmentItems\n",
    "        \n",
    "                children = []\n",
    "                children.append(assessmentLayout)\n",
    "                children.append(widgets.Textarea(\n",
    "                               value=d[\"query\"],\n",
    "                               placeholder='Query',\n",
    "                               description='Query:',\n",
    "                               layout=widgets.Layout(width='50%'),\n",
    "                               disabled=False))\n",
    "                    \n",
    "                children.append(widgets.Textarea(\n",
    "                               value=d[\"sparqlResultRaw\"],\n",
    "                               placeholder='Result',\n",
    "                               description='Result:',\n",
    "                               layout=widgets.Layout(width='90%'),\n",
    "                               disabled=False))\n",
    "                \n",
    "                accordion = widgets.Accordion(children)\n",
    "                accordion.set_title(0, 'Assessment')\n",
    "                accordion.set_title(1, 'SPARQL')\n",
    "                accordion.set_title(2, 'Raw result')\n",
    "                \n",
    "                out.clear_output()\n",
    "                display(accordion)\n",
    "        except Exception as e:\n",
    "            # time out exception\n",
    "            out.clear_output()\n",
    "            print(e)\n",
    "            #display(e)\n",
    "\n",
    "criteriaWidget = widgets.interactive(setCriterion, criterion=dataset.getCriteria())\n",
    "criteriaLayout = VBox()\n",
    "criteriaItems = []\n",
    "criteriaItems.append(widgets.HTML(\n",
    "                    value=\"<b>This section enables users to run the data quality criteria assessment. \\\n",
    "                    First the user selects a data quality criterion. Then, the SPARQL query defined \\\n",
    "                    to assess the data quality criterion is retrieved and executed using the SPARQL endpoint. \\\n",
    "                    Finally, the results are shown including the time taken and the SPARQL query used.</b>\"))\n",
    "criteriaItems.append(criteriaWidget)\n",
    "criteriaLayout.children = criteriaItems"
   ]
  },
  {
   "cell_type": "markdown",
   "id": "bd6c9daf-08c6-4053-9e68-69719787a7cf",
   "metadata": {},
   "source": [
    "### Let's retrieve the assessment results"
   ]
  },
  {
   "cell_type": "code",
   "execution_count": 28,
   "id": "100b71a4-26b0-4f79-a5f3-df87d5cc1e13",
   "metadata": {},
   "outputs": [],
   "source": [
    "assessmentResults = []\n",
    "\n",
    "assessmentResults.append(widgets.HTML(\n",
    "                    value=\"<b>This section shows the data quality assessment results obtained for the LOD repositories selected. \\\n",
    "                              The results are retrieved from the ttl files in the data folder using the properties dqv:value.</b>\"))\n",
    "\n",
    "# adding the stules for the headers\n",
    "assessmentResults.append(widgets.HTML(\n",
    "                    value=\"<style>.mytext > .widget-label {font-style: italic;color: blue;font-size: 30px;}\\\n",
    "                                  .mytext > input[type='text'] { font-weight: bold; color: black;}</style>\"))\n",
    "\n",
    "assessmentCriterion = []    \n",
    "\n",
    "tDimension = widgets.Text(value=\"Dimension\")\n",
    "tDimension.add_class(\"mytext\")\n",
    "\n",
    "tCriterion = widgets.Text(value=\"Criterion\")\n",
    "tCriterion.add_class(\"mytext\")\n",
    "\n",
    "tResult = widgets.Text(value=\"Result\")\n",
    "tResult.add_class(\"mytext\")\n",
    "\n",
    "assessmentCriterion.append(tDimension)\n",
    "assessmentCriterion.append(tCriterion)\n",
    "assessmentCriterion.append(tResult)\n",
    "\n",
    "assessmentCriterionLayout = HBox()\n",
    "assessmentCriterionLayout.children = assessmentCriterion\n",
    "assessmentResults.append(assessmentCriterionLayout)\n",
    "\n",
    "for a in dataset.getAssessmentResults():\n",
    "    assessmentCriterion = []    \n",
    "    assessmentCriterion.append(widgets.Text(\n",
    "        value=a[\"dimension\"]\n",
    "    ))\n",
    "    assessmentCriterion.append(widgets.Text(\n",
    "        value=a[\"criterion\"]\n",
    "    ))\n",
    "    assessmentCriterion.append(widgets.Text(\n",
    "        value=a[\"value\"]\n",
    "    ))\n",
    "    \n",
    "    assessmentCriterionLayout = HBox()\n",
    "    assessmentCriterionLayout.children = assessmentCriterion\n",
    "    assessmentResults.append(assessmentCriterionLayout)\n",
    "    \n",
    "assessmentResultsLayout = VBox()\n",
    "assessmentResultsLayout.children = assessmentResults"
   ]
  },
  {
   "cell_type": "markdown",
   "id": "5e6fee08-a392-4ccb-a766-14b549c0a30f",
   "metadata": {},
   "source": [
    "### Create visual interface"
   ]
  },
  {
   "cell_type": "code",
   "execution_count": 31,
   "id": "49ef0913-a432-427a-832f-8035092808bd",
   "metadata": {
    "scrolled": true
   },
   "outputs": [
    {
     "data": {
      "application/vnd.jupyter.widget-view+json": {
       "model_id": "c245c110d5ba4ee382f8b7986310038e",
       "version_major": 2,
       "version_minor": 0
      },
      "text/plain": [
       "Tab(children=(VBox(children=(Text(value='https://data.bnf.fr/sparql', description='SPARQL:', layout=Layout(wid…"
      ]
     },
     "execution_count": 31,
     "metadata": {},
     "output_type": "execute_result"
    }
   ],
   "source": [
    "children = []\n",
    "titles = []\n",
    "tab = widgets.Tab()\n",
    "children.insert(0,introductionLayout)\n",
    "children.insert(1,criteriaLayout)\n",
    "children.insert(2,assessmentResultsLayout)\n",
    "tab.children = children\n",
    "\n",
    "titles.insert(0, 'Repository')\n",
    "titles.insert(1, 'Data quality criteria')\n",
    "titles.insert(2, 'Assessment results')\n",
    "tab.titles = titles\n",
    "\n",
    "tab"
   ]
  },
  {
   "cell_type": "code",
   "execution_count": null,
   "id": "d97d2a14-3d27-4c32-980e-c1b1d9fec405",
   "metadata": {},
   "outputs": [],
   "source": []
  }
 ],
 "metadata": {
  "kernelspec": {
   "display_name": "Python 3",
   "language": "python",
   "name": "python3"
  },
  "language_info": {
   "codemirror_mode": {
    "name": "ipython",
    "version": 3
   },
   "file_extension": ".py",
   "mimetype": "text/x-python",
   "name": "python",
   "nbconvert_exporter": "python",
   "pygments_lexer": "ipython3",
   "version": "3.9.18"
  }
 },
 "nbformat": 4,
 "nbformat_minor": 5
}
