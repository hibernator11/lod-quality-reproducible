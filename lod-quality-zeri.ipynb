{
 "cells": [
  {
   "cell_type": "markdown",
   "id": "4d561e1c-b3f5-49fc-a79a-4432d4702c06",
   "metadata": {},
   "source": [
    "### Import python packages"
   ]
  },
  {
   "cell_type": "code",
   "execution_count": 94,
   "id": "4105b59a-8d7a-4907-9986-5606ac1c58bc",
   "metadata": {},
   "outputs": [],
   "source": [
    "from ipywidgets import interact, interactive, fixed, interact_manual, AppLayout, Button, HBox, Layout, VBox, HTML\n",
    "from IPython.display import display\n",
    "import ipywidgets as widgets\n",
    "from dataset import Dataset\n",
    "import IPython"
   ]
  },
  {
   "cell_type": "markdown",
   "id": "59e9cb62-17ba-467b-b78d-8b024354b9ee",
   "metadata": {},
   "source": [
    "### Create select for the SPARQL endpoint"
   ]
  },
  {
   "cell_type": "code",
   "execution_count": 97,
   "id": "8092481a-9e95-4dda-b152-313419c17d4f",
   "metadata": {},
   "outputs": [],
   "source": [
    "file = \"data/zeri-data-quality.ttl\"\n",
    "dataset = Dataset(file)"
   ]
  },
  {
   "cell_type": "code",
   "execution_count": 99,
   "id": "82d38839-4333-4988-be83-14b3e96c3a0d",
   "metadata": {},
   "outputs": [],
   "source": [
    "sparqlWidget = widgets.Text(\n",
    "    value=dataset.getEndpoint(),\n",
    "    placeholder='SPARQL endpoint',\n",
    "    description='URL:',\n",
    "    disabled=False,\n",
    "    layout = widgets.Layout(width='350px')\n",
    ")"
   ]
  },
  {
   "cell_type": "markdown",
   "id": "42a5d044-c139-4061-b7c3-a444fbe044ad",
   "metadata": {},
   "source": [
    "### Retrieve the metrics"
   ]
  },
  {
   "cell_type": "code",
   "execution_count": 102,
   "id": "a10d61e3-3e81-43f7-b7fb-24d5c40274c8",
   "metadata": {},
   "outputs": [],
   "source": [
    "def setCriterion(criterion):\n",
    "    \n",
    "    for d in dataset.runCriterion(criterion):\n",
    "        assessmentItems = []\n",
    "        assessmentItems.append(widgets.HTML(\n",
    "            value=d[\"label\"],\n",
    "            placeholder='Label',\n",
    "            description='Label'\n",
    "        ))\n",
    "        assessmentItems.append(widgets.HTML(\n",
    "            value=d[\"sparqlResult\"],\n",
    "            placeholder='Result',\n",
    "            description='Result'\n",
    "        ))\n",
    "        assessmentItems.append(widgets.HTML(\n",
    "            value=d[\"time\"],\n",
    "            placeholder='Seconds',\n",
    "            description='Seconds'\n",
    "        ))\n",
    "        \n",
    "        assessmentLayout = VBox()\n",
    "        assessmentLayout.children = assessmentItems\n",
    "\n",
    "        children = []\n",
    "        children.append(assessmentLayout)\n",
    "        children.append(widgets.Textarea(\n",
    "                       value=d[\"query\"],\n",
    "                       placeholder='Query',\n",
    "                       description='Query:',\n",
    "                       layout=widgets.Layout(width='50%'),\n",
    "                       disabled=False))\n",
    "            \n",
    "        children.append(widgets.Textarea(\n",
    "                       value=d[\"sparqlResultRaw\"],\n",
    "                       placeholder='Result',\n",
    "                       description='Result:',\n",
    "                       layout=widgets.Layout(width='90%'),\n",
    "                       disabled=False))\n",
    "        \n",
    "        accordion = widgets.Accordion(children)\n",
    "        accordion.set_title(0, 'Assessment')\n",
    "        accordion.set_title(1, 'SPARQL')\n",
    "        accordion.set_title(2, 'Raw result')\n",
    "        display(accordion)\n",
    "\n",
    "criteriaWidget = widgets.interactive(setCriterion, criterion=dataset.getCriteria())"
   ]
  },
  {
   "cell_type": "markdown",
   "id": "5e6fee08-a392-4ccb-a766-14b549c0a30f",
   "metadata": {},
   "source": [
    "### Create visual interface"
   ]
  },
  {
   "cell_type": "code",
   "execution_count": 105,
   "id": "49ef0913-a432-427a-832f-8035092808bd",
   "metadata": {
    "scrolled": true
   },
   "outputs": [
    {
     "data": {
      "application/vnd.jupyter.widget-view+json": {
       "model_id": "4e61ea2adead498794aa4feed142e06d",
       "version_major": 2,
       "version_minor": 0
      },
      "text/plain": [
       "Tab(children=(Text(value='http://data.fondazionezeri.unibo.it/sparql', description='URL:', layout=Layout(width…"
      ]
     },
     "execution_count": 105,
     "metadata": {},
     "output_type": "execute_result"
    }
   ],
   "source": [
    "children = []\n",
    "titles = []\n",
    "tab = widgets.Tab()\n",
    "children.insert(0,sparqlWidget)\n",
    "children.insert(1,criteriaWidget)\n",
    "tab.children = children\n",
    "\n",
    "titles.insert(0, 'SPARQL endpoint')\n",
    "titles.insert(1, 'Data quality criteria')\n",
    "tab.titles = titles\n",
    "\n",
    "tab"
   ]
  }
 ],
 "metadata": {
  "kernelspec": {
   "display_name": "Python 3",
   "language": "python",
   "name": "python3"
  },
  "language_info": {
   "codemirror_mode": {
    "name": "ipython",
    "version": 3
   },
   "file_extension": ".py",
   "mimetype": "text/x-python",
   "name": "python",
   "nbconvert_exporter": "python",
   "pygments_lexer": "ipython3",
   "version": "3.9.18"
  }
 },
 "nbformat": 4,
 "nbformat_minor": 5
}
