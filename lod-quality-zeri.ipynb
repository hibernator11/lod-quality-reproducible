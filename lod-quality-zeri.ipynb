{
 "cells": [
  {
   "cell_type": "markdown",
   "id": "4d561e1c-b3f5-49fc-a79a-4432d4702c06",
   "metadata": {},
   "source": [
    "### Import python packages"
   ]
  },
  {
   "cell_type": "code",
   "execution_count": 1,
   "id": "4105b59a-8d7a-4907-9986-5606ac1c58bc",
   "metadata": {},
   "outputs": [],
   "source": [
    "from ipywidgets import interact, interactive, fixed, interact_manual, AppLayout, Button, HBox, Layout, VBox, HTML\n",
    "from IPython.display import display\n",
    "import ipywidgets as widgets\n",
    "from dataset import Dataset\n",
    "import IPython"
   ]
  },
  {
   "cell_type": "markdown",
   "id": "59e9cb62-17ba-467b-b78d-8b024354b9ee",
   "metadata": {},
   "source": [
    "### Create select for the SPARQL endpoint"
   ]
  },
  {
   "cell_type": "code",
   "execution_count": 4,
   "id": "8092481a-9e95-4dda-b152-313419c17d4f",
   "metadata": {},
   "outputs": [],
   "source": [
    "file = \"data/zeri-data-quality.ttl\"\n",
    "dataset = Dataset(file)"
   ]
  },
  {
   "cell_type": "code",
   "execution_count": 6,
   "id": "82d38839-4333-4988-be83-14b3e96c3a0d",
   "metadata": {},
   "outputs": [],
   "source": [
    "sparqlWidget = widgets.Text(\n",
    "    value=dataset.getEndpoint(),\n",
    "    placeholder='SPARQL endpoint',\n",
    "    description='URL:',\n",
    "    disabled=False,\n",
    "    layout = widgets.Layout(width='350px')\n",
    ")"
   ]
  },
  {
   "cell_type": "code",
   "execution_count": 8,
   "id": "5c5e094c-4182-4ced-85da-ac5952192b5b",
   "metadata": {},
   "outputs": [
    {
     "name": "stdout",
     "output_type": "stream",
     "text": [
      "[['SELECT * WHERE {{?s ?p ?o}} LIMIT {0}', 'It checks that the SPARQL endpoint is available', 'Availability']]\n"
     ]
    }
   ],
   "source": [
    "print(dataset.getMetrics())"
   ]
  },
  {
   "cell_type": "code",
   "execution_count": 10,
   "id": "dbad8416-9f3e-414c-af04-d169c2b81d3e",
   "metadata": {},
   "outputs": [
    {
     "name": "stdout",
     "output_type": "stream",
     "text": [
      "SELECT * WHERE {{?s ?p ?o}} LIMIT {0} It checks that the SPARQL endpoint is available Availability\n"
     ]
    }
   ],
   "source": [
    "for m in dataset.getMetrics():\n",
    "    print(m[0], m[1], m[2])"
   ]
  },
  {
   "cell_type": "markdown",
   "id": "42a5d044-c139-4061-b7c3-a444fbe044ad",
   "metadata": {},
   "source": [
    "### Retrieve the metrics"
   ]
  },
  {
   "cell_type": "code",
   "execution_count": 64,
   "id": "a10d61e3-3e81-43f7-b7fb-24d5c40274c8",
   "metadata": {},
   "outputs": [],
   "source": [
    "def setDimension(dimension):\n",
    "    \n",
    "    #print(dataset.runDimension(Dimension))\n",
    "    for d in dataset.runDimension(dimension):\n",
    "        display(widgets.HTML(\n",
    "            value=d[2],\n",
    "            placeholder='Label',\n",
    "            description='Label'\n",
    "        ))\n",
    "        display(widgets.HTML(\n",
    "            value=d[0],\n",
    "            placeholder='Result',\n",
    "            description='Result'\n",
    "        ))\n",
    "        display(widgets.HTML(\n",
    "            value=d[1],\n",
    "            placeholder='Seconds',\n",
    "            description='Seconds'\n",
    "        ))\n",
    "\n",
    "dimensionsWidget = widgets.interactive(setDimension, dimension=dataset.getDimensions())"
   ]
  },
  {
   "cell_type": "markdown",
   "id": "5e6fee08-a392-4ccb-a766-14b549c0a30f",
   "metadata": {},
   "source": [
    "### Create visual interface"
   ]
  },
  {
   "cell_type": "code",
   "execution_count": 67,
   "id": "49ef0913-a432-427a-832f-8035092808bd",
   "metadata": {},
   "outputs": [
    {
     "data": {
      "application/vnd.jupyter.widget-view+json": {
       "model_id": "ee98c9a497e644d6aca8162aff9973ac",
       "version_major": 2,
       "version_minor": 0
      },
      "text/plain": [
       "Tab(children=(Text(value='http://data.fondazionezeri.unibo.it/sparql', description='URL:', layout=Layout(width…"
      ]
     },
     "execution_count": 67,
     "metadata": {},
     "output_type": "execute_result"
    }
   ],
   "source": [
    "children = []\n",
    "titles = []\n",
    "tab = widgets.Tab()\n",
    "children.insert(0,sparqlWidget)\n",
    "children.insert(1,dimensionsWidget)\n",
    "tab.children = children\n",
    "\n",
    "titles.insert(0, 'SPARQL endpoint')\n",
    "titles.insert(1, 'Dimensions')\n",
    "tab.titles = titles\n",
    "\n",
    "tab"
   ]
  },
  {
   "cell_type": "code",
   "execution_count": null,
   "id": "0c8c775a-4827-46a8-b7ae-0060cf12af46",
   "metadata": {},
   "outputs": [],
   "source": []
  }
 ],
 "metadata": {
  "kernelspec": {
   "display_name": "Python 3",
   "language": "python",
   "name": "python3"
  },
  "language_info": {
   "codemirror_mode": {
    "name": "ipython",
    "version": 3
   },
   "file_extension": ".py",
   "mimetype": "text/x-python",
   "name": "python",
   "nbconvert_exporter": "python",
   "pygments_lexer": "ipython3",
   "version": "3.9.18"
  }
 },
 "nbformat": 4,
 "nbformat_minor": 5
}
